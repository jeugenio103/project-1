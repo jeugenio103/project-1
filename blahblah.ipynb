{
 "cells": [
  {
   "cell_type": "code",
   "execution_count": 15,
   "metadata": {},
   "outputs": [],
   "source": [
    "#Dependencies\n",
    "import pandas as pd\n",
    "import matplotlib.pyplot as plt\n",
    "import numpy as np\n"
   ]
  },
  {
   "cell_type": "code",
   "execution_count": 17,
   "metadata": {},
   "outputs": [],
   "source": [
    "#Path for Transit Data\n",
    "transportation_profile = \"./Resources/County_Transportation_Profiles.csv\"\n",
    "\n",
    "#Path for Unemployment Data \n",
    "broome_county_unemployment = \"./Resources/Broome_county_unemployment.csv\"\n",
    "carson_county_unemployment = \"./Resources/carson_county_unemployment.csv\"\n",
    "cass_county_unemployment = \"./Resources/Cass_County_Unemployment.csv\"\n",
    "cook_county_unemployment = \"./Resources/Cook_County_Unemployment.csv\"\n",
    "dallas_county_unemployment = \"./Resources/dallas_County_Unemployment.csv\"\n",
    "garfield_county_unemployment = \"./Resources/Garfield_County_Unemployment.csv\"\n",
    "houston_county_unemployment = \"./Resources/houston_County_Unemployment.csv\"\n",
    "kanawha_county_unemployment = \"./Resources/Kanawha_County_Unemployment.csv\"\n",
    "kings_county_unemployment = \"./Resources/Kings_County_Unemployment.csv\"\n",
    "los_angeles_county_unemployment = \"./Resources/los_angeles_county_unemployment.csv\"\n",
    "nez_perce_county_unemployment = \"./Resources/nez_perce_county_unemployment.csv\"\n",
    "sebastian_county_unemployment = \"./Resources/sebastian_county_unemployment.csv\"\n",
    "vermilion_county_unemployment = \"./Resources/vermilion_county_unemployment.csv\"\n",
    "walla_walla_county_unemployment = \"./Resources/walla_walla_county_unemployment.csv\"\n",
    "yakima_county_unemployment = \"./Resources/yakima_county_unemployment.csv\"\n",
    "\n",
    "#Reading Transit Data\n",
    "transportation_profile_df = pd.read_csv(transportation_profile)\n",
    "\n",
    "#Reading Unemployment Data \n",
    "broome_county_unemployment_df = pd.read_csv(broome_county_unemployment)\n",
    "carson_county_unemployment_df = pd.read_csv(carson_county_unemployment)\n",
    "cass_county_unemployment_df = pd.read_csv(cass_county_unemployment)\n",
    "cook_county_unemployment_df = pd.read_csv(cook_county_unemployment)\n",
    "dallas_county_unemployment_df = pd.read_csv(dallas_county_unemployment)\n",
    "garfield_county_unemployment_df = pd.read_csv(garfield_county_unemployment)\n",
    "houston_county_unemployment_df = pd.read_csv(houston_county_unemployment)\n",
    "kanawha_county_unemployment_df = pd.read_csv(kanawha_county_unemployment)\n",
    "kings_county_unemployment_df = pd.read_csv(kings_county_unemployment)\n",
    "los_angeles_county_unemployment_df = pd.read_csv(los_angeles_county_unemployment)\n",
    "nez_perce_county_unemployment_df = pd.read_csv(nez_perce_county_unemployment)\n",
    "sebastian_county_unemployment_df = pd.read_csv(sebastian_county_unemployment)\n",
    "vermilion_county_unemployment_df = pd.read_csv(vermilion_county_unemployment)\n",
    "walla_walla_county_unemployment_df = pd.read_csv(walla_walla_county_unemployment)\n",
    "yakima_county_unemployment_df = pd.read_csv(yakima_county_unemployment)\n",
    "\n"
   ]
  },
  {
   "cell_type": "code",
   "execution_count": 25,
   "metadata": {},
   "outputs": [
    {
     "data": {
      "text/plain": [
       "Text(0, 0.5, 'Unemployment Rate (%)')"
      ]
     },
     "execution_count": 25,
     "metadata": {},
     "output_type": "execute_result"
    },
    {
     "data": {
      "image/png": "[encoded data removed]",
      "text/plain": [
       "<Figure size 432x288 with 1 Axes>"
      ]
     },
     "metadata": {
      "needs_background": "light"
     },
     "output_type": "display_data"
    }
   ],
   "source": [
    "#Mean of Unemployment Rate over 2012-2016\n",
    "broome_county_unemployment_rate = (broome_county_unemployment_df[\"Value\"]).mean()\n",
    "carson_county_unemployment_rate = (carson_county_unemployment_df[\"Value\"]).mean()\n",
    "cass_county_unemployment_rate = (cass_county_unemployment_df[\"Value\"]).mean()\n",
    "cook_county_unemployment_rate = (cook_county_unemployment_df[\"Value\"]).mean()\n",
    "dallas_county_unemployment_rate = (dallas_county_unemployment_df[\"Value\"]).mean()\n",
    "garfield_county_unemployment_rate = (garfield_county_unemployment_df[\"Value\"]).mean()\n",
    "houston_county_unemployment_rate = (houston_county_unemployment_df[\"Value\"]).mean()\n",
    "kanawha_county_unemployment_rate = (kanawha_county_unemployment_df[\"Value\"]).mean()\n",
    "kings_county_unemployment_rate = (kings_county_unemployment_df[\"Value\"]).mean()\n",
    "los_angeles_county_unemployment_rate = (los_angeles_county_unemployment_df[\"Value\"]).mean()\n",
    "nez_perce_county_unemployment_rate = (nez_perce_county_unemployment_df[\"Value\"]).mean()\n",
    "sebastian_county_unemployment_rate = (sebastian_county_unemployment_df[\"Value\"]).mean()\n",
    "vermilion_county_unemployment_rate = (vermilion_county_unemployment_df[\"Value\"]).mean()\n",
    "walla_walla_county_unemployment_rate = (walla_walla_county_unemployment_df[\"Value\"]).mean()\n",
    "yakima_county_unemployment_rate = (yakima_county_unemployment_df[\"Value\"]).mean()\n",
    "unemployment_rates = [kings_county_unemployment_rate, los_angeles_county_unemployment_rate, cook_county_unemployment_rate, dallas_county_unemployment_rate, houston_county_unemployment_rate, yakima_county_unemployment_rate, kanawha_county_unemployment_rate, cass_county_unemployment_rate, sebastian_county_unemployment_rate, broome_county_unemployment_rate, vermilion_county_unemployment_rate, nez_perce_county_unemployment_rate, walla_walla_county_unemployment_rate, garfield_county_unemployment_rate, carson_county_unemployment_rate]\n",
    "\n",
    "#X-Axis\n",
    "x_axis = np.arange(len(unemployment_rates))\n",
    "x_axis\n",
    "\n",
    "#Graph\n",
    "plt.bar(x_axis, unemployment_rates, color='r', alpha=0.5, align=\"center\")\n",
    "tick_locations = [value for value in x_axis]\n",
    "plt.xticks(tick_locations, [\"Kings County\", \"Los Angeles County\", \"Cook County\", \"Dallas County\", \"Houston County\", \"Yakima County\", \"Kanawha County\", \"Cass County\", \"Sebastian County\", \"Broome County\", \"Vermilion County\", \"Nez Perce County\", \"Walla Walla County\", \"Garfield County\", \"Carson City\" ], rotation=\"vertical\")\n",
    "plt.title(\"Unemployment Rate Per County\")\n",
    "plt.xlabel(\"Counties\")\n",
    "plt.ylabel(\"Unemployment Rate (%)\")"
   ]
  },
  {
   "cell_type": "code",
   "execution_count": 18,
   "metadata": {},
   "outputs": [
    {
     "data": {
      "text/html": [
       "<div>\n",
       "<style scoped>\n",
       "    .dataframe tbody tr th:only-of-type {\n",
       "        vertical-align: middle;\n",
       "    }\n",
       "\n",
       "    .dataframe tbody tr th {\n",
       "        vertical-align: top;\n",
       "    }\n",
       "\n",
       "    .dataframe thead th {\n",
       "        text-align: right;\n",
       "    }\n",
       "</style>\n",
       "<table border=\"1\" class=\"dataframe\">\n",
       "  <thead>\n",
       "    <tr style=\"text-align: right;\">\n",
       "      <th></th>\n",
       "      <th>County Name</th>\n",
       "      <th>State Name</th>\n",
       "      <th>Percent of resident workers who commute by transit</th>\n",
       "      <th>Number of residents</th>\n",
       "    </tr>\n",
       "  </thead>\n",
       "  <tbody>\n",
       "    <tr>\n",
       "      <th>1851</th>\n",
       "      <td>Kings County</td>\n",
       "      <td>New York</td>\n",
       "      <td>0.617606</td>\n",
       "      <td>2606850</td>\n",
       "    </tr>\n",
       "    <tr>\n",
       "      <th>204</th>\n",
       "      <td>Los Angeles County</td>\n",
       "      <td>California</td>\n",
       "      <td>0.065419</td>\n",
       "      <td>10057155</td>\n",
       "    </tr>\n",
       "    <tr>\n",
       "      <th>610</th>\n",
       "      <td>Cook County</td>\n",
       "      <td>Illinois</td>\n",
       "      <td>0.185574</td>\n",
       "      <td>5227575</td>\n",
       "    </tr>\n",
       "    <tr>\n",
       "      <th>2579</th>\n",
       "      <td>Dallas County</td>\n",
       "      <td>Texas</td>\n",
       "      <td>0.028775</td>\n",
       "      <td>2513055</td>\n",
       "    </tr>\n",
       "    <tr>\n",
       "      <th>2635</th>\n",
       "      <td>Houston County</td>\n",
       "      <td>Texas</td>\n",
       "      <td>0.000506</td>\n",
       "      <td>22800</td>\n",
       "    </tr>\n",
       "    <tr>\n",
       "      <th>2991</th>\n",
       "      <td>Yakima County</td>\n",
       "      <td>Washington</td>\n",
       "      <td>0.007218</td>\n",
       "      <td>247680</td>\n",
       "    </tr>\n",
       "    <tr>\n",
       "      <th>3011</th>\n",
       "      <td>Kanawha County</td>\n",
       "      <td>West Virginia</td>\n",
       "      <td>0.019917</td>\n",
       "      <td>189635</td>\n",
       "    </tr>\n",
       "    <tr>\n",
       "      <th>1998</th>\n",
       "      <td>Cass County</td>\n",
       "      <td>North Dakota</td>\n",
       "      <td>0.008264</td>\n",
       "      <td>166850</td>\n",
       "    </tr>\n",
       "    <tr>\n",
       "      <th>176</th>\n",
       "      <td>Sebastian County</td>\n",
       "      <td>Arkansas</td>\n",
       "      <td>0.004142</td>\n",
       "      <td>127350</td>\n",
       "    </tr>\n",
       "    <tr>\n",
       "      <th>1831</th>\n",
       "      <td>Broome County</td>\n",
       "      <td>New York</td>\n",
       "      <td>0.032717</td>\n",
       "      <td>197380</td>\n",
       "    </tr>\n",
       "    <tr>\n",
       "      <th>687</th>\n",
       "      <td>Vermilion County</td>\n",
       "      <td>Illinois</td>\n",
       "      <td>0.006909</td>\n",
       "      <td>79615</td>\n",
       "    </tr>\n",
       "    <tr>\n",
       "      <th>585</th>\n",
       "      <td>Nez Perce County</td>\n",
       "      <td>Idaho</td>\n",
       "      <td>0.003038</td>\n",
       "      <td>39995</td>\n",
       "    </tr>\n",
       "    <tr>\n",
       "      <th>2888</th>\n",
       "      <td>Page County</td>\n",
       "      <td>Virginia</td>\n",
       "      <td>0.004412</td>\n",
       "      <td>23760</td>\n",
       "    </tr>\n",
       "    <tr>\n",
       "      <th>2154</th>\n",
       "      <td>Garfield County</td>\n",
       "      <td>Oklahoma</td>\n",
       "      <td>0.002996</td>\n",
       "      <td>62480</td>\n",
       "    </tr>\n",
       "    <tr>\n",
       "      <th>1763</th>\n",
       "      <td>Carson City</td>\n",
       "      <td>Nevada</td>\n",
       "      <td>0.002773</td>\n",
       "      <td>54410</td>\n",
       "    </tr>\n",
       "  </tbody>\n",
       "</table>\n",
       "</div>"
      ],
      "text/plain": [
       "             County Name     State Name  \\\n",
       "1851        Kings County       New York   \n",
       "204   Los Angeles County     California   \n",
       "610          Cook County       Illinois   \n",
       "2579       Dallas County          Texas   \n",
       "2635      Houston County          Texas   \n",
       "2991       Yakima County     Washington   \n",
       "3011      Kanawha County  West Virginia   \n",
       "1998         Cass County   North Dakota   \n",
       "176     Sebastian County       Arkansas   \n",
       "1831       Broome County       New York   \n",
       "687     Vermilion County       Illinois   \n",
       "585     Nez Perce County          Idaho   \n",
       "2888         Page County       Virginia   \n",
       "2154     Garfield County       Oklahoma   \n",
       "1763         Carson City         Nevada   \n",
       "\n",
       "      Percent of resident workers who commute by transit  Number of residents  \n",
       "1851                                           0.617606               2606850  \n",
       "204                                            0.065419              10057155  \n",
       "610                                            0.185574               5227575  \n",
       "2579                                           0.028775               2513055  \n",
       "2635                                           0.000506                 22800  \n",
       "2991                                           0.007218                247680  \n",
       "3011                                           0.019917                189635  \n",
       "1998                                           0.008264                166850  \n",
       "176                                            0.004142                127350  \n",
       "1831                                           0.032717                197380  \n",
       "687                                            0.006909                 79615  \n",
       "585                                            0.003038                 39995  \n",
       "2888                                           0.004412                 23760  \n",
       "2154                                           0.002996                 62480  \n",
       "1763                                           0.002773                 54410  "
      ]
     },
     "execution_count": 18,
     "metadata": {},
     "output_type": "execute_result"
    }
   ],
   "source": [
    "#New Dataframe from Transportation Profile\n",
    "clean_data_df = transportation_profile_df.loc[[1851, 204, 610, 2579, 2635, 2991, 3011, 1998, 176, 1831, 687, 585, 2888, 2154, 1763], ['County Name', 'State Name','Percent of resident workers who commute by transit','Number of residents']]\n",
    "clean_data_df"
   ]
  },
  {
   "cell_type": "code",
   "execution_count": null,
   "metadata": {},
   "outputs": [],
   "source": [
    "#Transit Data and County Residents\n",
    "transit_data = clean_data_df['Percent of resident workers who commute by transit']\n",
    "county_residents = clean_data_df['Number of residents']\n",
    "county_residents = county_residents.replace(\",\", \"\",regex=True)\n",
    "new_resident_count = county_residents.astype(int)"
   ]
  },
  {
   "cell_type": "code",
   "execution_count": 21,
   "metadata": {},
   "outputs": [
    {
     "data": {
      "text/plain": [
       "array([ 0,  1,  2,  3,  4,  5,  6,  7,  8,  9, 10, 11, 12, 13, 14])"
      ]
     },
     "execution_count": 21,
     "metadata": {},
     "output_type": "execute_result"
    }
   ],
   "source": [
    "x_axis = np.arange(len(transit_data))\n",
    "x_axis"
   ]
  },
  {
   "cell_type": "code",
   "execution_count": 22,
   "metadata": {},
   "outputs": [
    {
     "data": {
      "text/plain": [
       "Text(0, 0.5, 'Percent')"
      ]
     },
     "execution_count": 22,
     "metadata": {},
     "output_type": "execute_result"
    },
    {
     "data": {
      "image/png": "[encoded data removed]",
      "text/plain": [
       "<Figure size 432x288 with 1 Axes>"
      ]
     },
     "metadata": {
      "needs_background": "light"
     },
     "output_type": "display_data"
    }
   ],
   "source": [
    "#Graph Details\n",
    "x_axis = np.arange(len(transit_data))\n",
    "x_axis\n",
    "plt.bar(x_axis, transit_data, color='r', alpha=0.5, align=\"center\")\n",
    "tick_locations = [value for value in x_axis]\n",
    "plt.xticks(tick_locations, [\"Kings County\", \"Los Angeles County\", \"Cook County\", \"Dallas County\", \"Houston County\", \"Yakima County\", \"Kanawha County\", \"Cass County\", \"Sebastian County\", \"Broome County\", \"Vermilion County\", \"Nez Perce County\", \"Walla Walla County\", \"Garfield County\", \"Carson City\" ], rotation=\"vertical\")\n",
    "plt.title(\"Percent of population that uses Transit\")\n",
    "plt.xlabel(\"Counties\")\n",
    "plt.ylabel(\"Percent\")\n"
   ]
  },
  {
   "cell_type": "code",
   "execution_count": 23,
   "metadata": {},
   "outputs": [
    {
     "data": {
      "text/plain": [
       "Text(0, 0.5, 'Residents')"
      ]
     },
     "execution_count": 23,
     "metadata": {},
     "output_type": "execute_result"
    },
    {
     "data": {
      "image/png": "[encoded data removed]",
      "text/plain": [
       "<Figure size 432x288 with 1 Axes>"
      ]
     },
     "metadata": {
      "needs_background": "light"
     },
     "output_type": "display_data"
    }
   ],
   "source": [
    "#Graph Details\n",
    "x_axis = np.arange(len(new_resident_count))\n",
    "plt.bar(x_axis, new_resident_count, color='r', alpha=0.5, align=\"center\")\n",
    "tick_locations = [value for value in x_axis]\n",
    "plt.xticks(tick_locations, [\"Kings County\", \"Los Angeles County\", \"Cook County\", \"Dallas County\", \"Houston County\", \"Yakima County\", \"Kanawha County\", \"Cass County\", \"Sebastian County\", \"Broome County\", \"Vermilion County\", \"Nez Perce County\", \"Walla Walla County\", \"Garfield County\", \"Carson City\" ], rotation=\"vertical\")\n",
    "plt.title(\"Total Residents in each County\")\n",
    "plt.xlabel(\"Counties\")\n",
    "plt.ylabel(\"Residents\")"
   ]
  }
 ],
 "metadata": {
  "kernelspec": {
   "display_name": "Python 3.9.12 ('base')",
   "language": "python",
   "name": "python3"
  },
  "language_info": {
   "codemirror_mode": {
    "name": "ipython",
    "version": 3
   },
   "file_extension": ".py",
   "mimetype": "text/x-python",
   "name": "python",
   "nbconvert_exporter": "python",
   "pygments_lexer": "ipython3",
   "version": "3.9.12"
  },
  "orig_nbformat": 4,
  "vscode": {
   "interpreter": {
    "hash": "9b65e3f165b9ab6886d5ca8424d575f5b16bbb36049fd86f168802c37613562d"
   }
  }
 },
 "nbformat": 4,
 "nbformat_minor": 2
}
