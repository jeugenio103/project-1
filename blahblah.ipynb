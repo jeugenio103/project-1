{
 "cells": [
  {
   "cell_type": "code",
   "execution_count": 1,
   "metadata": {},
   "outputs": [],
   "source": [
    "#Dependencies\n",
    "import pandas as pd\n",
    "import matplotlib.pyplot as plt\n",
    "import numpy as np\n"
   ]
  },
  {
   "cell_type": "code",
   "execution_count": 2,
   "metadata": {},
   "outputs": [],
   "source": [
    "# The path to our CSV file\n",
    "transportation_profile = \"./Resources/County_Transportation_Profiles.csv\"\n",
    "cook_county_unemployment = \"./Resources/Cook_County_Unemployment.csv\"\n",
    "garfield_county_unemployment = \"./Resources/Garfield_County_Unemployment.csv\"\n",
    "kanawha_county_unemployment = \"./Resources/Kanawha_County_Unemployment.csv\"\n",
    "\n",
    "transportation_profile_df = pd.read_csv(transportation_profile)\n",
    "cook_county_unemployment_df = pd.read_csv(cook_county_unemployment)\n",
    "garfield_county_unemployment_df = pd.read_csv(garfield_county_unemployment)\n",
    "kanawha_county_unemployment_df = pd.read_csv(kanawha_county_unemployment)\n",
    "\n"
   ]
  },
  {
   "cell_type": "code",
   "execution_count": null,
   "metadata": {},
   "outputs": [],
   "source": []
  },
  {
   "cell_type": "code",
   "execution_count": 3,
   "metadata": {},
   "outputs": [
    {
     "data": {
      "text/plain": [
       "['County FIPS',\n",
       " 'County Name',\n",
       " 'State FIPS',\n",
       " 'State Name',\n",
       " 'Primary and Commercial Airports',\n",
       " 'Non-Commercial -Civil Public Use Airports and Seaplane base',\n",
       " 'Non-Commercial -Other Aerodromes',\n",
       " 'Number of Bridges',\n",
       " '% of Poor Condition Bridges',\n",
       " 'Number of business establishments',\n",
       " 'Percent of resident workers who commute by transit',\n",
       " 'Number of resident workers who work at home',\n",
       " 'Number of workers from other counties who commute to work in the county',\n",
       " 'Number of resident workers who commute to work in other counties',\n",
       " 'Number of resident workers who commute within county',\n",
       " 'Number of resident workers',\n",
       " 'Number of residents',\n",
       " 'Total Docks',\n",
       " 'Total Marinas',\n",
       " 'Route miles of freight railroad',\n",
       " '% of Medium to Fair Condition Bridges',\n",
       " 'Route miles of passenger railroad and rail transit']"
      ]
     },
     "execution_count": 3,
     "metadata": {},
     "output_type": "execute_result"
    }
   ],
   "source": [
    "list(transportation_profile_df.columns.values)\n"
   ]
  },
  {
   "cell_type": "code",
   "execution_count": 4,
   "metadata": {},
   "outputs": [
    {
     "data": {
      "text/html": [
       "<div>\n",
       "<style scoped>\n",
       "    .dataframe tbody tr th:only-of-type {\n",
       "        vertical-align: middle;\n",
       "    }\n",
       "\n",
       "    .dataframe tbody tr th {\n",
       "        vertical-align: top;\n",
       "    }\n",
       "\n",
       "    .dataframe thead th {\n",
       "        text-align: right;\n",
       "    }\n",
       "</style>\n",
       "<table border=\"1\" class=\"dataframe\">\n",
       "  <thead>\n",
       "    <tr style=\"text-align: right;\">\n",
       "      <th></th>\n",
       "      <th>County Name</th>\n",
       "      <th>State Name</th>\n",
       "      <th>Percent of resident workers who commute by transit</th>\n",
       "      <th>Number of residents</th>\n",
       "    </tr>\n",
       "  </thead>\n",
       "  <tbody>\n",
       "    <tr>\n",
       "      <th>610</th>\n",
       "      <td>Cook County</td>\n",
       "      <td>Illinois</td>\n",
       "      <td>0.185574</td>\n",
       "      <td>5,227,575</td>\n",
       "    </tr>\n",
       "    <tr>\n",
       "      <th>2154</th>\n",
       "      <td>Garfield County</td>\n",
       "      <td>Oklahoma</td>\n",
       "      <td>0.002996</td>\n",
       "      <td>62,480</td>\n",
       "    </tr>\n",
       "    <tr>\n",
       "      <th>3011</th>\n",
       "      <td>Kanawha County</td>\n",
       "      <td>West Virginia</td>\n",
       "      <td>0.019917</td>\n",
       "      <td>189,635</td>\n",
       "    </tr>\n",
       "  </tbody>\n",
       "</table>\n",
       "</div>"
      ],
      "text/plain": [
       "          County Name     State Name  \\\n",
       "610       Cook County       Illinois   \n",
       "2154  Garfield County       Oklahoma   \n",
       "3011   Kanawha County  West Virginia   \n",
       "\n",
       "      Percent of resident workers who commute by transit Number of residents  \n",
       "610                                            0.185574            5,227,575  \n",
       "2154                                           0.002996               62,480  \n",
       "3011                                           0.019917              189,635  "
      ]
     },
     "execution_count": 4,
     "metadata": {},
     "output_type": "execute_result"
    }
   ],
   "source": [
    "#clean_data_df = transportation_profile_df.loc[(transportation_profile_df['County FIPS'] == 17031)  (transportation_profile_df['County FIPS'] == 40047)]\n",
    "clean_data_df = transportation_profile_df.loc[[610, 2154, 3011], ['County Name', 'State Name','Percent of resident workers who commute by transit','Number of residents']]\n",
    "\n",
    "# and 40047 and 54039)\n",
    "clean_data_df"
   ]
  },
  {
   "cell_type": "code",
   "execution_count": 5,
   "metadata": {},
   "outputs": [
    {
     "data": {
      "text/plain": [
       "610     0.185574\n",
       "2154    0.002996\n",
       "3011    0.019917\n",
       "Name: Percent of resident workers who commute by transit, dtype: float64"
      ]
     },
     "execution_count": 5,
     "metadata": {},
     "output_type": "execute_result"
    }
   ],
   "source": [
    "transit_data = clean_data_df['Percent of resident workers who commute by transit']\n",
    "county_residents = clean_data_df['Number of residents']\n",
    "transit_data\n"
   ]
  },
  {
   "cell_type": "code",
   "execution_count": 6,
   "metadata": {},
   "outputs": [
    {
     "data": {
      "text/plain": [
       "610     5227575\n",
       "2154      62480\n",
       "3011     189635\n",
       "Name: Number of residents, dtype: int32"
      ]
     },
     "execution_count": 6,
     "metadata": {},
     "output_type": "execute_result"
    }
   ],
   "source": [
    "county_residents = county_residents.replace(\",\", \"\",regex=True)\n",
    "new_resident_count = county_residents.astype(int)\n",
    "new_resident_count"
   ]
  },
  {
   "cell_type": "code",
   "execution_count": 7,
   "metadata": {},
   "outputs": [
    {
     "data": {
      "text/plain": [
       "array([0, 1, 2])"
      ]
     },
     "execution_count": 7,
     "metadata": {},
     "output_type": "execute_result"
    }
   ],
   "source": [
    "x_axis = np.arange(len(transit_data))\n",
    "x_axis"
   ]
  },
  {
   "cell_type": "code",
   "execution_count": 8,
   "metadata": {},
   "outputs": [
    {
     "data": {
      "text/plain": [
       "Text(0, 0.5, 'Percent')"
      ]
     },
     "execution_count": 8,
     "metadata": {},
     "output_type": "execute_result"
    },
    {
     "data": {
      "image/png": "[encoded data removed]",
      "text/plain": [
       "<Figure size 432x288 with 1 Axes>"
      ]
     },
     "metadata": {
      "needs_background": "light"
     },
     "output_type": "display_data"
    }
   ],
   "source": [
    "plt.bar(x_axis, transit_data, color='r', alpha=0.5, align=\"center\")\n",
    "tick_locations = [value for value in x_axis]\n",
    "plt.xticks(tick_locations, [\"Cook County\", \"Garfield County\", \"Kanawha County\"])\n",
    "# Give our chart some labels and a tile\n",
    "plt.title(\"Percent of population that uses Transit\")\n",
    "plt.xlabel(\"Counties\")\n",
    "plt.ylabel(\"Percent\")"
   ]
  },
  {
   "cell_type": "code",
   "execution_count": 9,
   "metadata": {},
   "outputs": [
    {
     "data": {
      "text/plain": [
       "Text(0, 0.5, 'Residents')"
      ]
     },
     "execution_count": 9,
     "metadata": {},
     "output_type": "execute_result"
    },
    {
     "data": {
      "image/png": "[encoded data removed]",
      "text/plain": [
       "<Figure size 432x288 with 1 Axes>"
      ]
     },
     "metadata": {
      "needs_background": "light"
     },
     "output_type": "display_data"
    }
   ],
   "source": [
    "x_axis = np.arange(len(new_resident_count))\n",
    "plt.bar(x_axis, new_resident_count, color='r', alpha=0.5, align=\"center\")\n",
    "tick_locations = [value for value in x_axis]\n",
    "plt.xticks(tick_locations, [\"Cook County\", \"Garfield County\", \"Kanawha County\"])\n",
    "# Give our chart some labels and a tile\n",
    "plt.title(\"Total Residents in each County\")\n",
    "plt.xlabel(\"Counties\")\n",
    "plt.ylabel(\"Residents\")"
   ]
  }
 ],
 "metadata": {
  "kernelspec": {
   "display_name": "Python 3.9.12 ('base')",
   "language": "python",
   "name": "python3"
  },
  "language_info": {
   "codemirror_mode": {
    "name": "ipython",
    "version": 3
   },
   "file_extension": ".py",
   "mimetype": "text/x-python",
   "name": "python",
   "nbconvert_exporter": "python",
   "pygments_lexer": "ipython3",
   "version": "3.9.12"
  },
  "orig_nbformat": 4,
  "vscode": {
   "interpreter": {
    "hash": "9b65e3f165b9ab6886d5ca8424d575f5b16bbb36049fd86f168802c37613562d"
   }
  }
 },
 "nbformat": 4,
 "nbformat_minor": 2
}
