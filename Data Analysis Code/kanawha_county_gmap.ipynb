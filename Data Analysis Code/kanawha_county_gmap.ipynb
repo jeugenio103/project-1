{
 "cells": [
  {
   "cell_type": "code",
   "execution_count": 1,
   "metadata": {},
   "outputs": [],
   "source": [
    "# Dependencies\n",
    "import requests\n",
    "import json\n",
    "import gmaps\n",
    "\n",
    "# Google API Key\n",
    "from config import gkey\n",
    "gmaps.configure(api_key=gkey)"
   ]
  },
  {
   "cell_type": "code",
   "execution_count": 2,
   "metadata": {},
   "outputs": [],
   "source": [
    "#Initial Search Critera\n",
    "target_type = \"bus_station\" \n",
    "coords = \"38.32135, -81.58083\"\n",
    "radius = 80000\n"
   ]
  },
  {
   "cell_type": "code",
   "execution_count": 3,
   "metadata": {},
   "outputs": [],
   "source": [
    "#Initial Search Critera\n",
    "target_url = \"https://maps.googleapis.com/maps/api/place/nearbysearch/json\"\n",
    "\n",
    "\n",
    "params = {\n",
    "    \"location\": coords,\n",
    "    \"types\": target_type,\n",
    "    \"radius\": radius,\n",
    "    \"key\": gkey\n",
    "}\n",
    "\n",
    "response = requests.get(target_url, params)\n",
    "\n",
    "\n",
    "buses = response.json()\n",
    "\n",
    "counter = 0\n",
    "coordinates = []\n",
    "for place in buses[\"results\"]:\n",
    "    lat = buses[\"results\"][counter][\"geometry\"][\"location\"][\"lat\"]\n",
    "    lng = buses[\"results\"][counter][\"geometry\"][\"location\"][\"lng\"]\n",
    "    coordinates.append([lat,lng])\n",
    "    counter += 1\n",
    "    if counter == 500:\n",
    "        break"
   ]
  },
  {
   "cell_type": "code",
   "execution_count": 4,
   "metadata": {},
   "outputs": [],
   "source": [
    "#New Target Type \n",
    "target_type = \"light_rail_station\"\n",
    "params = {\n",
    "    \"location\": coords,\n",
    "    \"types\": target_type,\n",
    "    \"radius\": radius,\n",
    "    \"key\": gkey\n",
    "}\n",
    "\n",
    "response = requests.get(target_url, params)\n",
    "\n",
    "\n",
    "buses = response.json()\n",
    "counter = 0\n",
    "\n",
    "for place in buses[\"results\"]:\n",
    "    lat = buses[\"results\"][counter][\"geometry\"][\"location\"][\"lat\"]\n",
    "    lng = buses[\"results\"][counter][\"geometry\"][\"location\"][\"lng\"]\n",
    "    coordinates.append([lat,lng])\n",
    "    counter += 1\n",
    "    if counter == 500:\n",
    "        break"
   ]
  },
  {
   "cell_type": "code",
   "execution_count": 5,
   "metadata": {},
   "outputs": [],
   "source": [
    "#New Target Type \n",
    "target_type = \"subway_station\"\n",
    "params = {\n",
    "    \"location\": coords,\n",
    "    \"types\": target_type,\n",
    "    \"radius\": radius,\n",
    "    \"key\": gkey\n",
    "}\n",
    "\n",
    "response = requests.get(target_url, params)\n",
    "\n",
    "\n",
    "buses = response.json()\n",
    "counter = 0\n",
    "\n",
    "for place in buses[\"results\"]:\n",
    "    lat = buses[\"results\"][counter][\"geometry\"][\"location\"][\"lat\"]\n",
    "    lng = buses[\"results\"][counter][\"geometry\"][\"location\"][\"lng\"]\n",
    "    coordinates.append([lat,lng])\n",
    "    counter += 1\n",
    "    if counter == 500:\n",
    "        break"
   ]
  },
  {
   "cell_type": "code",
   "execution_count": 6,
   "metadata": {},
   "outputs": [],
   "source": [
    "#New Target Type \n",
    "target_type = \"transit_station\"\n",
    "params = {\n",
    "    \"location\": coords,\n",
    "    \"types\": target_type,\n",
    "    \"radius\": radius,\n",
    "    \"key\": gkey\n",
    "}\n",
    "\n",
    "response = requests.get(target_url, params)\n",
    "\n",
    "\n",
    "buses = response.json()\n",
    "counter = 0\n",
    "\n",
    "for place in buses[\"results\"]:\n",
    "    lat = buses[\"results\"][counter][\"geometry\"][\"location\"][\"lat\"]\n",
    "    lng = buses[\"results\"][counter][\"geometry\"][\"location\"][\"lng\"]\n",
    "    coordinates.append([lat,lng])\n",
    "    counter += 1\n",
    "    if counter == 500:\n",
    "        break"
   ]
  },
  {
   "cell_type": "code",
   "execution_count": 7,
   "metadata": {},
   "outputs": [],
   "source": [
    "#New Target Type \n",
    "target_type = \"train_station\"\n",
    "params = {\n",
    "    \"location\": coords,\n",
    "    \"types\": target_type,\n",
    "    \"radius\": radius,\n",
    "    \"key\": gkey\n",
    "}\n",
    "\n",
    "response = requests.get(target_url, params)\n",
    "\n",
    "\n",
    "buses = response.json()\n",
    "counter = 0\n",
    "\n",
    "for place in buses[\"results\"]:\n",
    "    lat = buses[\"results\"][counter][\"geometry\"][\"location\"][\"lat\"]\n",
    "    lng = buses[\"results\"][counter][\"geometry\"][\"location\"][\"lng\"]\n",
    "    coordinates.append([lat,lng])\n",
    "    counter += 1\n",
    "    if counter == 500:\n",
    "        break"
   ]
  },
  {
   "cell_type": "code",
   "execution_count": 8,
   "metadata": {},
   "outputs": [],
   "source": [
    "#Figure details\n",
    "figure_layout = {\n",
    "    'width': '1000px',\n",
    "    'height': '900px',\n",
    "    'border': '1px solid black',\n",
    "    'padding': '1px',\n",
    "    'margin': '0 auto 0 auto'\n",
    "}\n",
    "fig = gmaps.figure(layout=figure_layout)"
   ]
  },
  {
   "cell_type": "code",
   "execution_count": 9,
   "metadata": {},
   "outputs": [
    {
     "data": {
      "application/vnd.jupyter.widget-view+json": {
       "model_id": "b81ebf3aaf9845808dea194e3baad0d9",
       "version_major": 2,
       "version_minor": 0
      },
      "text/plain": [
       "Figure(layout=FigureLayout(border='1px solid black', height='900px', margin='0 auto 0 auto', padding='1px', wi…"
      ]
     },
     "metadata": {},
     "output_type": "display_data"
    }
   ],
   "source": [
    "#Add layers\n",
    "markers = gmaps.marker_layer(coordinates)\n",
    "fig.add_layer(gmaps.transit_layer())\n",
    "fig.add_layer(markers)\n",
    "fig"
   ]
  }
 ],
 "metadata": {
  "kernelspec": {
   "display_name": "Python 3.9.12 ('base')",
   "language": "python",
   "name": "python3"
  },
  "language_info": {
   "codemirror_mode": {
    "name": "ipython",
    "version": 3
   },
   "file_extension": ".py",
   "mimetype": "text/x-python",
   "name": "python",
   "nbconvert_exporter": "python",
   "pygments_lexer": "ipython3",
   "version": "3.9.12"
  },
  "orig_nbformat": 4,
  "vscode": {
   "interpreter": {
    "hash": "9b65e3f165b9ab6886d5ca8424d575f5b16bbb36049fd86f168802c37613562d"
   }
  }
 },
 "nbformat": 4,
 "nbformat_minor": 2
}
