{
 "cells": [
  {
   "cell_type": "code",
   "execution_count": 1,
   "metadata": {},
   "outputs": [],
   "source": [
    "# Dependencies\n",
    "import pandas as pd\n",
    "import numpy as np\n",
    "import matplotlib.pyplot as plt"
   ]
  },
  {
   "cell_type": "code",
   "execution_count": 3,
   "metadata": {},
   "outputs": [
    {
     "data": {
      "image/png": "[encoded data removed]",
      "text/plain": [
       "<Figure size 432x288 with 1 Axes>"
      ]
     },
     "metadata": {
      "needs_background": "light"
     },
     "output_type": "display_data"
    }
   ],
   "source": [
    "rate = [7.541666666666665,\n",
    "    50,\n",
    " 8.201666666666666,\n",
    " 7.89,\n",
    " 5.511666666666667,\n",
    " 5.478333333333334,\n",
    " 8.703333333333331,\n",
    " 5.860000000000002,\n",
    " 2.486666666666667,\n",
    " 5.763333333333332,\n",
    " 7.000000000000001,\n",
    " 8.565000000000003,\n",
    " 4.343333333333333,\n",
    " 5.380000000000001,\n",
    " 3.883333333333334,\n",
    " 9.061666666666664]\n",
    "fig1, ax1 = plt.subplots()\n",
    "ax1.set_title('Unemployment Rate')\n",
    "ax1.set_ylabel('Unemployment Rate (%)')\n",
    "ax1.boxplot(rate)\n",
    "plt.show()"
   ]
  }
 ],
 "metadata": {
  "kernelspec": {
   "display_name": "Python 3.9.12 ('base')",
   "language": "python",
   "name": "python3"
  },
  "language_info": {
   "codemirror_mode": {
    "name": "ipython",
    "version": 3
   },
   "file_extension": ".py",
   "mimetype": "text/x-python",
   "name": "python",
   "nbconvert_exporter": "python",
   "pygments_lexer": "ipython3",
   "version": "3.9.12"
  },
  "orig_nbformat": 4,
  "vscode": {
   "interpreter": {
    "hash": "9b65e3f165b9ab6886d5ca8424d575f5b16bbb36049fd86f168802c37613562d"
   }
  }
 },
 "nbformat": 4,
 "nbformat_minor": 2
}
